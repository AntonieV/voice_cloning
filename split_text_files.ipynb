{
 "cells": [
  {
   "cell_type": "code",
   "execution_count": 62,
   "id": "06ee764b",
   "metadata": {},
   "outputs": [
    {
     "name": "stdout",
     "output_type": "stream",
     "text": [
      "['prince_sorted_0001', 'prince_sorted_0002', 'prince_sorted_0003', 'prince_sorted_0004', 'prince_sorted_0005', 'prince_sorted_0006', 'prince_sorted_0007', 'prince_sorted_0008', 'prince_sorted_0009', 'prince_sorted_0010', 'prince_sorted_0011', 'prince_sorted_0012', 'prince_sorted_0013', 'prince_sorted_0014', 'prince_sorted_0015', 'prince_sorted_0016', 'prince_sorted_0017', 'prince_sorted_0018', 'prince_sorted_0019', 'prince_sorted_0020', 'prince_sorted_0021', 'prince_sorted_0022', 'prince_sorted_0023', 'prince_sorted_0024', 'prince_sorted_0025', 'prince_sorted_0026', 'prince_sorted_0027', 'prince_sorted_0028', 'prince_sorted_0029', 'prince_sorted_0030', 'prince_sorted_0031', 'prince_sorted_0032', 'prince_sorted_0033', 'prince_sorted_0034', 'prince_sorted_0035', 'prince_sorted_0036', 'prince_sorted_0037', 'prince_sorted_0038', 'prince_sorted_0039', 'prince_sorted_0040', 'prince_sorted_0041', 'prince_sorted_0042', 'prince_sorted_0043', 'prince_sorted_0044', 'prince_sorted_0045', 'prince_sorted_0046', 'prince_sorted_0047', 'prince_sorted_0048', 'prince_sorted_0049', 'prince_sorted_0050', 'prince_sorted_0051', 'prince_sorted_0052', 'prince_sorted_0053', 'prince_sorted_0054', 'prince_sorted_0055', 'prince_sorted_0056', 'prince_sorted_0057', 'prince_sorted_0058', 'prince_sorted_0059', 'prince_sorted_0060', 'prince_sorted_0061', 'prince_sorted_0062', 'prince_sorted_0063', 'prince_sorted_0064', 'prince_sorted_0065', 'prince_sorted_0066', 'prince_sorted_0067', 'prince_sorted_0068', 'prince_sorted_0069', 'prince_sorted_0070', 'prince_sorted_0071', 'prince_sorted_0072', 'prince_sorted_0073', 'prince_sorted_0074', 'prince_sorted_0075', 'prince_sorted_0076', 'prince_sorted_0077', 'prince_sorted_0078', 'prince_sorted_0079', 'prince_sorted_0080', 'prince_sorted_0081', 'prince_sorted_0082', 'prince_sorted_0083', 'prince_sorted_0084', 'prince_sorted_0085', 'prince_sorted_0086', 'prince_sorted_0087', 'prince_sorted_0088', 'prince_sorted_0089', 'prince_sorted_0090', 'prince_sorted_0091', 'prince_sorted_0092', 'prince_sorted_0093', 'prince_sorted_0094', 'prince_sorted_0095', 'prince_sorted_0096', 'prince_sorted_0097', 'prince_sorted_0098', 'prince_sorted_0099', 'prince_sorted_0100', 'prince_sorted_0101', 'prince_sorted_0102', 'prince_sorted_0103', 'prince_sorted_0104', 'prince_sorted_0105', 'prince_sorted_0106', 'prince_sorted_0107', 'prince_sorted_0108', 'prince_sorted_0109', 'prince_sorted_0110', 'prince_sorted_0111', 'prince_sorted_0112', 'prince_sorted_0113', 'prince_sorted_0114', 'prince_sorted_0115', 'prince_sorted_0116', 'prince_sorted_0117', 'prince_sorted_0118', 'prince_sorted_0119', 'prince_sorted_0120', 'prince_sorted_0121', 'prince_sorted_0122', 'prince_sorted_0123', 'prince_sorted_0124', 'prince_sorted_0125', 'prince_sorted_0126', 'prince_sorted_0127', 'prince_sorted_0128', 'prince_sorted_0129', 'prince_sorted_0130', 'prince_sorted_0131', 'prince_sorted_0132', 'prince_sorted_0133', 'prince_sorted_0134', 'prince_sorted_0135', 'prince_sorted_0136', 'prince_sorted_0137', 'prince_sorted_0138', 'prince_sorted_0139', 'prince_sorted_0140', 'prince_sorted_0141', 'prince_sorted_0142', 'prince_sorted_0143', 'prince_sorted_0144', 'prince_sorted_0145', 'prince_sorted_0146', 'prince_sorted_0147', 'prince_sorted_0148', 'prince_sorted_0149', 'prince_sorted_0150', 'prince_sorted_0151', 'prince_sorted_0152', 'prince_sorted_0153', 'prince_sorted_0154', 'prince_sorted_0155', 'prince_sorted_0156', 'prince_sorted_0157', 'prince_sorted_0158', 'prince_sorted_0159', 'prince_sorted_0160', 'prince_sorted_0161', 'prince_sorted_0162', 'prince_sorted_0163', 'prince_sorted_0164', 'prince_sorted_0165', 'prince_sorted_0166', 'prince_sorted_0167', 'prince_sorted_0168', 'prince_sorted_0169', 'prince_sorted_0170', 'prince_sorted_0171', 'prince_sorted_0172', 'prince_sorted_0173', 'prince_sorted_0174', 'prince_sorted_0175', 'prince_sorted_0176', 'prince_sorted_0177', 'prince_sorted_0178', 'prince_sorted_0179', 'prince_sorted_0180', 'prince_sorted_0181', 'prince_sorted_0182', 'prince_sorted_0183', 'prince_sorted_0184', 'prince_sorted_0185', 'prince_sorted_0186', 'prince_sorted_0187', 'prince_sorted_0188', 'prince_sorted_0189', 'prince_sorted_0190', 'prince_sorted_0191', 'prince_sorted_0192', 'prince_sorted_0193', 'prince_sorted_0194', 'prince_sorted_0195', 'prince_sorted_0196', 'prince_sorted_0197', 'prince_sorted_0198', 'prince_sorted_0199', 'prince_sorted_0200', 'prince_sorted_0201']\n",
      "de_DE/by_book/male/zs/oscar_wilde_der_glueckliche_prinz/metadata.csv\n"
     ]
    }
   ],
   "source": [
    "### ADAPT META INFO TO CURRENT FILE NAME:\n",
    "#       for i in $(ls -1 ./ | grep wav$ ); do echo $i;ffmpeg -i $i -map_metadata -1 -c:a copy  wav_neu/$i; done\n",
    "\n",
    "\n",
    "from pathlib import Path\n",
    "import glob\n",
    "\n",
    "\n",
    "\n",
    "def get_file_content(file):\n",
    "    return Path(file).read_text()\n",
    "\n",
    "\n",
    "def text_2_list(_text):\n",
    "    _text = [item.strip() for item in _text.split('__###__')]\n",
    "    _text = list(filter(None, _text))\n",
    "    return _text\n",
    "    \n",
    "def get_wav_file_collection(_wav_dir):\n",
    "    ext = '.wav'\n",
    "    wav_collection = []\n",
    "    for file in glob.glob(_wav_dir + f'/*{ext}', recursive=True):\n",
    "        wav_collection.append(Path(file).name.replace(ext, ''))\n",
    "    return sorted(wav_collection)\n",
    "\n",
    "def parse_csv_map(_text_list, _wav_list, _out_file):\n",
    "    wav_txt_map = list(zip(_wav_list, _text_list))\n",
    "    with open(_out_file, 'w') as f_out:\n",
    "        f_out.write('\\n'.join(['|'.join(item) for item in wav_txt_map]))\n",
    "        \n",
    "\n",
    "\n",
    "input_text_file = \"datasets/de_DE/by_book/male/zs/oscar_wilde_der_glueckliche_prinz/full_text.txt\"\n",
    "wav_dir = \"datasets/de_DE/by_book/male/zs/oscar_wilde_der_glueckliche_prinz/wavs\"\n",
    "\n",
    "# input_text_file = \"datasets/de_DE/by_book/female/avi/oscar_wilde_der_glueckliche_prinz/full_text.txt\"\n",
    "# wav_dir = \"datasets/de_DE/by_book/female/avi/oscar_wilde_der_glueckliche_prinz/wavs\"\n",
    "\n",
    "out_file = Path(input_text_file).parent / \"metadata.csv\"\n",
    "\n",
    "text_list = text_2_list(get_file_content(input_text_file))\n",
    "wav_list = get_wav_file_collection(wav_dir)\n",
    "print(wav_list)\n",
    "\n",
    "parse_csv_map(text_list, wav_list, out_file)\n",
    "print(f\"metadata.csv was written to {out_file}\")"
   ]
  }
 ],
 "metadata": {
  "kernelspec": {
   "display_name": "Python 3 (ipykernel)",
   "language": "python",
   "name": "python3"
  },
  "language_info": {
   "codemirror_mode": {
    "name": "ipython",
    "version": 3
   },
   "file_extension": ".py",
   "mimetype": "text/x-python",
   "name": "python",
   "nbconvert_exporter": "python",
   "pygments_lexer": "ipython3",
   "version": "3.10.12"
  }
 },
 "nbformat": 4,
 "nbformat_minor": 5
}
